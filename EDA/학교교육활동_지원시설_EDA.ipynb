# 필요한 라이브러리 임포트
import pandas as pd
import numpy as np
import matplotlib.pyplot as plt
import seaborn as sns
import folium
from folium.plugins import MarkerCluster
import matplotlib.font_manager as fm
import warnings
from matplotlib import rc
from sklearn.preprocessing import StandardScaler
from sklearn.decomposition import PCA

# 경고 무시
warnings.filterwarnings('ignore')

# 그래프 크기 설정
plt.rcParams['figure.figsize'] = (12, 8)
plt.rcParams['axes.unicode_minus'] = False

# 데이터 로드 - 실제 파일 경로로 대체하세요
result_df = pd.read_csv('/content/학생교육활동에_필요한_지원시설_현황_20250515075816.csv', encoding='utf-8-sig')

print(result_df.head(3))

#########################################################
# 1. 데이터 기본 정보 확인
#########################################################

print("\n1. 데이터 기본 정보")
print("-" * 50)
print(f"데이터 크기: {result_df.shape}")
print("\n결측치 현황:")
print(result_df.isnull().sum()[result_df.isnull().sum() > 0])

# 학교급 분포 확인
print("\n학교급 분포:")
if '학교급코드' in result_df.columns:
    school_types = result_df['학교급코드'].value_counts()
    print(school_types)
    
    # 학교급 코드와 명칭 매핑 (일반적인 코드 기준, 실제 데이터에 맞게 조정 필요)
    school_type_map = {
        'elem_list': '초등학교',
        'midd_list': '중학교',
        'high_list': '고등학교',
        'spcl_list': '특수학교',
        'elem': '초등학교',
        'midd': '중학교',
        'high': '고등학교'
    }
    
    # 가능한 경우 학교급 이름으로 변환
    result_df['학교급명'] = result_df['학교급코드'].map(lambda x: school_type_map.get(x, x))

# 설립 유형 분포 확인
print("\n설립 유형 분포:")
print(result_df['SCHUL_FOND_TYP_NM'].value_counts())

#########################################################
# 2. 지원 시설 현황 분석
#########################################################

print("\n2. 지원 시설 현황 분석")
print("-" * 50)

# 체육관, 강당, 기숙사, 수영장, 진로 상담실 보유 현황
facility_columns = ['COL_1', 'COL_2', 'BRHS_RCPTN_NMPR_FGR', 'SWMPL_FGR', 'COSE_CNSRM_FGR']
facility_names = ['체육관', '강당', '기숙사', '수영장', '진로상담실']

# 각 시설별 보유 비율 계산 함수
def calculate_facility_rate(df, column, threshold=0):
    total = df[column].notnull().sum()
    has_facility = df[df[column] > threshold][column].count()
    if total > 0:
        return has_facility / total * 100
    return 0

# 시설 보유율 계산 및 시각화
facility_rates = []
for col, name in zip(facility_columns, facility_names):
    rate = calculate_facility_rate(result_df, col)
    facility_rates.append(rate)
    print(f"{name} 보유율: {rate:.2f}%")

# 시설 보유율 시각화
plt.figure(figsize=(12, 6))
sns.barplot(x=facility_names, y=facility_rates, palette='viridis')
plt.title('학교별 시설 보유율', fontsize=16)
plt.xlabel('시설 유형', fontsize=12)
plt.ylabel('보유율 (%)', fontsize=12)
plt.xticks(rotation=45)
plt.tight_layout()
plt.savefig('facility_rate.png')
plt.close()

#########################################################
# 3. 학교급별 시설 보유 현황 비교
#########################################################

print("\n3. 학교급별 시설 보유 현황 비교")
print("-" * 50)

# 학교급별 분석 가능 여부 확인
if '학교급명' in result_df.columns:
    school_types = result_df['학교급명'].unique()
    
    # 학교급별 시설 보유율 계산
    school_facility_rates = {}
    
    for school_type in school_types:
        school_df = result_df[result_df['학교급명'] == school_type]
        rates = []
        
        for col in facility_columns:
            rate = calculate_facility_rate(school_df, col)
            rates.append(rate)
        
        school_facility_rates[school_type] = rates
    
    # 학교급별 시설 보유율 비교 시각화
    plt.figure(figsize=(14, 8))
    
    bar_width = 0.15
    index = np.arange(len(facility_names))
    
    for i, (school_type, rates) in enumerate(school_facility_rates.items()):
        plt.bar(index + i * bar_width, rates, bar_width, label=school_type)
    
    plt.xlabel('시설 유형', fontsize=12)
    plt.ylabel('보유율 (%)', fontsize=12)
    plt.title('학교급별 시설 보유율 비교', fontsize=16)
    plt.xticks(index + bar_width * (len(school_types) - 1) / 2, facility_names, rotation=45)
    plt.legend()
    plt.tight_layout()
    plt.savefig('facility_rate_by_school_type.png')
    plt.close()

#########################################################
# 4. 지역별 시설 현황 분석
#########################################################

print("\n4. 지역별 시설 현황 분석")
print("-" * 50)

# 지역별 분석 수행
region_column = 'ADRCD_NM'
if region_column in result_df.columns:
    # 지역별 학교 수
    region_school_count = result_df[region_column].value_counts()
    print("\n지역별 학교 수:")
    print(region_school_count.head(10))  # 상위 10개 지역만 출력
    
    # 지역별 체육관 보유율
    regions = result_df[region_column].value_counts().index[:10]  # 상위 10개 지역
    region_gym_rates = []
    
    for region in regions:
        region_df = result_df[result_df[region_column] == region]
        rate = calculate_facility_rate(region_df, 'COL_1')
        region_gym_rates.append(rate)
    
    # 지역별 체육관 보유율 시각화
    plt.figure(figsize=(14, 8))
    sns.barplot(x=regions, y=region_gym_rates, palette='coolwarm')
    plt.title('지역별 체육관 보유율 (상위 10개 지역)', fontsize=16)
    plt.xlabel('지역', fontsize=12)
    plt.ylabel('체육관 보유율 (%)', fontsize=12)
    plt.xticks(rotation=45)
    plt.tight_layout()
    plt.savefig('gym_rate_by_region.png')
    plt.close()
    
    # 각 시설별로 지역 간 불균형 지수 계산
    # (표준편차/평균)으로 계산하여 상대적 불균형 정도를 측정
    # 값이 클수록 지역 간 불균형이 크다는 의미
    
    facility_inequality = {}
    for col, name in zip(facility_columns, facility_names):
        region_rates = []
        
        for region in result_df[region_column].unique():
            region_df = result_df[result_df[region_column] == region]
            if region_df.shape[0] >= 5:  # 5개 이상의 학교가 있는 지역만 고려
                rate = calculate_facility_rate(region_df, col)
                region_rates.append(rate)
        
        if region_rates:
            inequality = np.std(region_rates) / (np.mean(region_rates) if np.mean(region_rates) > 0 else 1)
            facility_inequality[name] = inequality
    
    print("\n시설별 지역 간 불균형 지수 (표준편차/평균):")
    for name, inequality in facility_inequality.items():
        print(f"{name}: {inequality:.4f}")
    
    # 불균형 지수 시각화
    plt.figure(figsize=(12, 6))
    sns.barplot(x=list(facility_inequality.keys()), y=list(facility_inequality.values()), palette='rocket')
    plt.title('시설별 지역 간 불균형 지수', fontsize=16)
    plt.xlabel('시설 유형', fontsize=12)
    plt.ylabel('불균형 지수 (표준편차/평균)', fontsize=12)
    plt.xticks(rotation=45)
    plt.tight_layout()
    plt.savefig('facility_inequality_index.png')
    plt.close()

#########################################################
# 5. 연도별 시설 현황 변화 분석
#########################################################

print("\n5. 연도별 시설 현황 변화 분석")
print("-" * 50)

# 연도 데이터 확인
if '연도' in result_df.columns:
    years = result_df['연도'].unique()
    print(f"데이터 연도 범위: {min(years)} ~ {max(years)}")
    
    # 연도별 시설 보유율 변화
    year_facility_rates = {}
    
    for year in years:
        year_df = result_df[result_df['연도'] == year]
        rates = []
        
        for col in facility_columns:
            rate = calculate_facility_rate(year_df, col)
            rates.append(rate)
        
        year_facility_rates[year] = rates
    
    # 연도별 시설 보유율 변화 시각화
    plt.figure(figsize=(14, 8))
    
    for i, (col, name) in enumerate(zip(facility_columns, facility_names)):
        yearly_rates = [year_facility_rates[year][i] for year in sorted(years)]
        plt.plot(sorted(years), yearly_rates, marker='o', linewidth=2, label=name)
    
    plt.xlabel('연도', fontsize=12)
    plt.ylabel('보유율 (%)', fontsize=12)
    plt.title('연도별 시설 보유율 변화', fontsize=16)
    plt.legend()
    plt.grid(True, linestyle='--', alpha=0.7)
    plt.tight_layout()
    plt.savefig('facility_rate_by_year.png')
    plt.close()

#########################################################
# 6. 설립유형별 시설 현황 분석
#########################################################

print("\n6. 설립유형별 시설 현황 분석")
print("-" * 50)

# 설립유형별 분석 수행
found_column = 'SCHUL_FOND_TYP_NM'
if found_column in result_df.columns:
    # 설립유형별 학교 수
    found_school_count = result_df[found_column].value_counts()
    print("\n설립유형별 학교 수:")
    print(found_school_count)
    
    # 설립유형별 시설 보유율
    found_types = found_school_count.index
    found_facility_rates = {}
    
    for facility_col, facility_name in zip(facility_columns, facility_names):
        rates = []
        
        for found_type in found_types:
            found_df = result_df[result_df[found_column] == found_type]
            rate = calculate_facility_rate(found_df, facility_col)
            rates.append(rate)
        
        found_facility_rates[facility_name] = rates
    
    # 설립유형별 체육관 보유율 시각화 (예시)
    plt.figure(figsize=(14, 8))
    sns.barplot(x=found_types, y=found_facility_rates['체육관'], palette='Set2')
    plt.title('설립유형별 체육관 보유율', fontsize=16)
    plt.xlabel('설립유형', fontsize=12)
    plt.ylabel('체육관 보유율 (%)', fontsize=12)
    plt.xticks(rotation=45)
    plt.tight_layout()
    plt.savefig('gym_rate_by_found_type.png')
    plt.close()
    
    # 모든 시설에 대한 설립유형별 보유율 비교 시각화
    plt.figure(figsize=(16, 10))
    
    bar_width = 0.15
    index = np.arange(len(found_types))
    
    for i, (facility_name, rates) in enumerate(found_facility_rates.items()):
        plt.bar(index + i * bar_width, rates, bar_width, label=facility_name)
    
    plt.xlabel('설립유형', fontsize=12)
    plt.ylabel('보유율 (%)', fontsize=12)
    plt.title('설립유형별 시설 보유율 비교', fontsize=16)
    plt.xticks(index + bar_width * (len(facility_names) - 1) / 2, found_types, rotation=45)
    plt.legend()
    plt.tight_layout()
    plt.savefig('facility_rate_by_found_type.png')
    plt.close()

#########################################################
# 7. 시설 불균형 지수 종합 분석
#########################################################

print("\n7. 시설 불균형 지수 종합 분석")
print("-" * 50)

# 각 학교별 시설 점수 계산 (시설 보유 여부에 따른 점수 합계)
def calculate_facility_score(row, facility_cols):
    score = 0
    for col in facility_cols:
        if pd.notnull(row[col]) and row[col] > 0:
            score += 1
    return score

# 시설 점수 계산
result_df['시설점수'] = result_df.apply(lambda row: calculate_facility_score(row, facility_columns), axis=1)

# 시설 점수 분포 확인
facility_score_dist = result_df['시설점수'].value_counts().sort_index()
print("\n시설 점수 분포:")
print(facility_score_dist)

# 시설 점수 분포 시각화
plt.figure(figsize=(12, 6))
sns.countplot(x='시설점수', data=result_df, palette='viridis')
plt.title('학교별 시설 점수 분포', fontsize=16)
plt.xlabel('시설 점수 (보유 시설 수)', fontsize=12)
plt.ylabel('학교 수', fontsize=12)
plt.tight_layout()
plt.savefig('facility_score_distribution.png')
plt.close()

# 지역별 시설 점수 평균
if region_column in result_df.columns:
    region_facility_score = result_df.groupby(region_column)['시설점수'].mean().sort_values()
    
    # 상위 10개, 하위 10개 지역 출력
    print("\n시설 점수 상위 10개 지역:")
    print(region_facility_score.tail(10))
    
    print("\n시설 점수 하위 10개 지역:")
    print(region_facility_score.head(10))
    
    # 지역별 시설 점수 분포 시각화 (상위 15개, 하위 15개 지역)
    # 두 개의 서브플롯 생성
    fig, (ax1, ax2) = plt.subplots(2, 1, figsize=(16, 12))
    
    # 상위 15개 지역
    top_regions = region_facility_score.tail(15)
    sns.barplot(x=top_regions.index, y=top_regions.values, palette='Greens_r', ax=ax1)
    ax1.set_title('시설 점수 상위 15개 지역', fontsize=16)
    ax1.set_xlabel('지역', fontsize=12)
    ax1.set_ylabel('평균 시설 점수', fontsize=12)
    ax1.tick_params(axis='x', rotation=45)
    
    # 하위 15개 지역
    bottom_regions = region_facility_score.head(15)
    sns.barplot(x=bottom_regions.index, y=bottom_regions.values, palette='Reds_r', ax=ax2)
    ax2.set_title('시설 점수 하위 15개 지역', fontsize=16)
    ax2.set_xlabel('지역', fontsize=12)
    ax2.set_ylabel('평균 시설 점수', fontsize=12)
    ax2.tick_params(axis='x', rotation=45)
    
    plt.tight_layout()
    plt.savefig('regional_facility_score.png')
    plt.close()

#########################################################
# 8. 우선 개선 필요 학교 식별
#########################################################

print("\n8. 우선 개선 필요 학교 식별")
print("-" * 50)

# 시설 점수가 낮은 학교 식별 (하위 10%)
low_facility_threshold = np.percentile(result_df['시설점수'].dropna(), 10)
priority_schools = result_df[result_df['시설점수'] <= low_facility_threshold]

print(f"\n시설 점수 하위 10% 기준 (점수 <= {low_facility_threshold}):")
print(f"우선 개선 필요 학교 수: {len(priority_schools)}")

# 우선 개선 필요 학교의 지역별 분포
if region_column in result_df.columns:
    priority_region_dist = priority_schools[region_column].value_counts()
    print("\n우선 개선 필요 학교의 지역별 분포 (상위 10개):")
    print(priority_region_dist.head(10))
    
    # 시각화
    plt.figure(figsize=(14, 8))
    sns.countplot(y=region_column, data=priority_schools, 
                  order=priority_region_dist.index[:15], palette='coolwarm')
    plt.title('우선 개선 필요 학교의 지역별 분포 (상위 15개 지역)', fontsize=16)
    plt.xlabel('학교 수', fontsize=12)
    plt.ylabel('지역', fontsize=12)
    plt.tight_layout()
    plt.savefig('priority_schools_by_region.png')
    plt.close()

# 우선 개선 필요 학교의 설립유형별 분포
if found_column in result_df.columns:
    priority_found_dist = priority_schools[found_column].value_counts(normalize=True) * 100
    all_found_dist = result_df[found_column].value_counts(normalize=True) * 100
    
    print("\n우선 개선 필요 학교의 설립유형별 분포:")
    for found_type in priority_found_dist.index:
        print(f"{found_type}: {priority_found_dist[found_type]:.2f}% (전체 평균: {all_found_dist.get(found_type, 0):.2f}%)")
    
    # 시각화: 우선 개선 필요 학교와 전체 학교의 설립유형 분포 비교
    fig, (ax1, ax2) = plt.subplots(1, 2, figsize=(16, 8))
    
    # 우선 개선 필요 학교의 설립유형 분포
    priority_found_dist.plot(kind='pie', autopct='%1.1f%%', ax=ax1, colors=sns.color_palette('Set3'))
    ax1.set_title('우선 개선 필요 학교의 설립유형 분포', fontsize=16)
    ax1.set_ylabel('')
    
    # 전체 학교의 설립유형 분포
    all_found_dist.plot(kind='pie', autopct='%1.1f%%', ax=ax2, colors=sns.color_palette('Set3'))
    ax2.set_title('전체 학교의 설립유형 분포', fontsize=16)
    ax2.set_ylabel('')
    
    plt.tight_layout()
    plt.savefig('priority_vs_all_found_type.png')
    plt.close()

# 우선 개선 필요 학교 리스트 (상위 20개)
print("\n우선 개선 필요 학교 리스트 (상위 20개):")
priority_list = priority_schools[['SCHUL_NM', region_column, found_column, '시설점수']].sort_values('시설점수')
print(priority_list.head(20))

#########################################################
# 9. 학교급별 시설 불균형 분석
#########################################################

print("\n9. 학교급별 시설 불균형 분석")
print("-" * 50)

if '학교급명' in result_df.columns:
    # 학교급별 시설 점수 분포
    school_type_facility_score = result_df.groupby('학교급명')['시설점수'].agg(['mean', 'std', 'min', 'max'])
    school_type_facility_score['cv'] = school_type_facility_score['std'] / school_type_facility_score['mean']  # 변동계수
    
    print("\n학교급별 시설 점수 분포:")
    print(school_type_facility_score)
    
    # 학교급별 시설 점수 분포 시각화 (박스플롯)
    plt.figure(figsize=(14, 8))
    sns.boxplot(x='학교급명', y='시설점수', data=result_df, palette='Set3')
    plt.title('학교급별 시설 점수 분포', fontsize=16)
    plt.xlabel('학교급', fontsize=12)
    plt.ylabel('시설 점수', fontsize=12)
    plt.tight_layout()
    plt.savefig('facility_score_by_school_type.png')
    plt.close()
    
    # 학교급별 시설별 보유율 히트맵 - 수정된 부분 (문자열->숫자 변환)
    facility_rates_by_school_type = pd.DataFrame(index=result_df['학교급명'].unique(), columns=facility_names)
    
    for school_type in facility_rates_by_school_type.index:
        school_type_df = result_df[result_df['학교급명'] == school_type]
        
        for col, name in zip(facility_columns, facility_names):
            facility_rates_by_school_type.loc[school_type, name] = calculate_facility_rate(school_type_df, col)
    
    # NumPy 배열로 변환하여 히트맵에 사용 (dtype 문제 해결) 
    facility_rates_array = facility_rates_by_school_type.values.astype(float)
    plt.figure(figsize=(14, 8))
    heatmap = sns.heatmap(facility_rates_array, annot=True, cmap='YlGnBu', fmt='.1f',
                        xticklabels=facility_names, yticklabels=facility_rates_by_school_type.index)
    plt.title('학교급별 시설 보유율 (%)', fontsize=16)
    plt.tight_layout()
    plt.savefig('facility_rate_heatmap_by_school_type.png')
    plt.close()
#########################################################
# 10. 지역별 우선순위 선정을 위한 종합 지수 계산
#########################################################

print("\n10. 지역별 우선순위 선정을 위한 종합 지수 계산")
print("-" * 50)

if region_column in result_df.columns:
    # 지역별 종합 지수 계산
    region_summary = pd.DataFrame()
    
    # 1. 지역별 평균 시설 점수 (높을수록 좋음, 역순위 사용)
    region_avg_score = result_df.groupby(region_column)['시설점수'].mean()
    region_summary['평균시설점수'] = region_avg_score
    region_summary['평균시설점수_순위'] = region_avg_score.rank(ascending=True)  # 낮을수록 높은 순위(우선순위)
    
    # 2. 지역별 시설 점수 표준편차 (낮을수록 좋음)
    region_std_score = result_df.groupby(region_column)['시설점수'].std().fillna(0)
    region_summary['시설점수편차'] = region_std_score
    region_summary['시설점수편차_순위'] = region_std_score.rank(ascending=False)  # 높을수록 높은 순위(우선순위)
    
    # 3. 지역별 하위 10% 시설 점수 학교 비율 (낮을수록 좋음)
    region_low_score_ratio = result_df[result_df['시설점수'] <= low_facility_threshold].groupby(region_column).size() / result_df.groupby(region_column).size()
    region_low_score_ratio = region_low_score_ratio.fillna(0)
    region_summary['하위시설비율'] = region_low_score_ratio
    region_summary['하위시설비율_순위'] = region_low_score_ratio.rank(ascending=False)  # 높을수록 높은 순위(우선순위)
    
    # 4. 종합 우선순위 지수 (순위 합산, 낮을수록 우선순위 높음)
    region_summary['종합순위지수'] = (
        region_summary['평균시설점수_순위'] * 0.4 + 
        region_summary['시설점수편차_순위'] * 0.3 + 
        region_summary['하위시설비율_순위'] * 0.3
    )
    
    # 종합 우선순위 기준 정렬
    region_priority = region_summary.sort_values('종합순위지수')
    
    # 상위 20개 지역 출력
    print("\n지역별 시설 개선 우선순위 (상위 20개):")
    priority_regions = region_priority.head(20)
    print(priority_regions)
    
    # 시각화: 우선순위 상위 15개 지역 종합 지수
    top_priority_regions = region_priority.head(15)
    
    # 종합 순위 지수 시각화
    plt.figure(figsize=(14, 8))
    sns.barplot(x=top_priority_regions.index, y=top_priority_regions['종합순위지수'], palette='rocket_r')
    plt.title('지역별 시설 개선 우선순위 지수 (상위 15개 지역)', fontsize=16)
    plt.xlabel('지역', fontsize=12)
    plt.ylabel('종합 우선순위 지수 (낮을수록 우선순위 높음)', fontsize=12)
    plt.xticks(rotation=45)
    plt.tight_layout()
    plt.savefig('region_priority_index.png')
    plt.close()
    
    # 각 지표별 상위 15개 지역 비교 시각화
    # 서브플롯 구성
    fig, axes = plt.subplots(3, 1, figsize=(16, 18))
    
    # 1. 평균 시설 점수 (낮을수록 우선순위 높음)
    lowest_avg_regions = region_avg_score.sort_values().head(15)
    sns.barplot(x=lowest_avg_regions.index, y=lowest_avg_regions.values, palette='Blues_r', ax=axes[0])
    axes[0].set_title('평균 시설 점수 하위 15개 지역', fontsize=16)
    axes[0].set_xlabel('지역', fontsize=12)
    axes[0].set_ylabel('평균 시설 점수', fontsize=12)
    axes[0].tick_params(axis='x', rotation=45)
    
    # 2. 시설 점수 표준편차 (높을수록 우선순위 높음)
    highest_std_regions = region_std_score.sort_values(ascending=False).head(15)
    sns.barplot(x=highest_std_regions.index, y=highest_std_regions.values, palette='Oranges_r', ax=axes[1])
    axes[1].set_title('시설 점수 표준편차 상위 15개 지역 (불균형이 큰 지역)', fontsize=16)
    axes[1].set_xlabel('지역', fontsize=12)
    axes[1].set_ylabel('시설 점수 표준편차', fontsize=12)
    axes[1].tick_params(axis='x', rotation=45)
    
    # 3. 하위 10% 시설 점수 학교 비율 (높을수록 우선순위 높음)
    highest_low_ratio_regions = region_low_score_ratio.sort_values(ascending=False).head(15)
    sns.barplot(x=highest_low_ratio_regions.index, y=highest_low_ratio_regions.values, palette='Reds_r', ax=axes[2])
    axes[2].set_title('낙후 시설 학교 비율 상위 15개 지역', fontsize=16)
    axes[2].set_xlabel('지역', fontsize=12)
    axes[2].set_ylabel('하위 10% 시설 학교 비율', fontsize=12)
    axes[2].tick_params(axis='x', rotation=45)
    
    plt.tight_layout()
    plt.savefig('region_priority_indicators.png')
    plt.close()

#########################################################
# 11. 시설 연관성 분석
#########################################################

print("\n11. 시설 연관성 분석")
print("-" * 50)

# 시설 간 상관관계 분석
facility_corr = result_df[facility_columns].corr()
print("\n시설 간 상관관계:")
print(facility_corr)

# 상관관계 히트맵 시각화
plt.figure(figsize=(12, 10))
sns.heatmap(facility_corr, annot=True, cmap='coolwarm', fmt='.2f', 
            xticklabels=facility_names, yticklabels=facility_names)
plt.title('시설 간 상관관계', fontsize=16)
plt.tight_layout()
plt.savefig('facility_correlation.png')
plt.close()

# 주성분 분석(PCA)을 통한 시설 패턴 분석
# 결측치 제거 및 데이터 준비
facility_data = result_df[facility_columns].copy()
facility_data = facility_data.fillna(0)  # 결측치를 0으로 대체

# 데이터 스케일링
scaler = StandardScaler()
facility_data_scaled = scaler.fit_transform(facility_data)

# PCA 수행 (2개 이상의 컬럼이 있을 경우만 수행)
if len(facility_columns) >= 2:
    pca = PCA(n_components=2)
    principal_components = pca.fit_transform(facility_data_scaled)
    
    # PCA 결과 데이터프레임 생성
    pca_df = pd.DataFrame(data=principal_components, columns=['PC1', 'PC2'])
    
    # 설명된 분산 비율 확인
    explained_variance = pca.explained_variance_ratio_
    print("\nPCA 설명된 분산 비율:")
    print(f"PC1: {explained_variance[0]:.4f}, PC2: {explained_variance[1]:.4f}")
    print(f"누적 설명력: {sum(explained_variance):.4f}")
    
    # PCA 결과 시각화
    plt.figure(figsize=(12, 8))
    plt.scatter(pca_df['PC1'], pca_df['PC2'], alpha=0.5)
    plt.title('시설 패턴 PCA 분석', fontsize=16)
    plt.xlabel(f'주성분 1 (설명력: {explained_variance[0]:.2%})', fontsize=12)
    plt.ylabel(f'주성분 2 (설명력: {explained_variance[1]:.2%})', fontsize=12)
    plt.axhline(y=0, color='k', linestyle='-', alpha=0.3)
    plt.axvline(x=0, color='k', linestyle='-', alpha=0.3)
    plt.grid(alpha=0.3)
    plt.tight_layout()
    plt.savefig('facility_pca.png')
    plt.close()
    
    # PCA 로딩 시각화
    loadings = pca.components_.T * np.sqrt(pca.explained_variance_)
    plt.figure(figsize=(12, 8))
    for i, feature in enumerate(facility_names):
        plt.arrow(0, 0, loadings[i, 0], loadings[i, 1], head_width=0.05, head_length=0.05, fc='blue', ec='blue')
        plt.text(loadings[i, 0]*1.15, loadings[i, 1]*1.15, feature, color='red', fontsize=12)
    plt.title('PCA 로딩 (시설별 영향력)', fontsize=16)
    plt.xlabel(f'주성분 1 (설명력: {explained_variance[0]:.2%})', fontsize=12)
    plt.ylabel(f'주성분 2 (설명력: {explained_variance[1]:.2%})', fontsize=12)
    plt.axhline(y=0, color='k', linestyle='-', alpha=0.3)
    plt.axvline(x=0, color='k', linestyle='-', alpha=0.3)
    plt.grid(alpha=0.3)
    plt.xlim(-1, 1)
    plt.ylim(-1, 1)
    plt.tight_layout()
    plt.savefig('facility_pca_loadings.png')
    plt.close()
else:
    print("PCA 분석을 위한 충분한 시설 열이 없습니다. 2개 이상의 시설 열이 필요합니다.")

#########################################################
# 12. 개선 우선순위 종합 제안
#########################################################

print("\n12. 개선 우선순위 종합 제안")
print("-" * 50)

# 1. 시설 측면 우선순위
facility_priority = {}
for col, name in zip(facility_columns, facility_names):
    availability_rate = calculate_facility_rate(result_df, col)
    facility_priority[name] = 100 - availability_rate  # 부족률 기준

print("\n시설별 개선 우선순위 (보유율이 낮은 순):")
for name, priority in sorted(facility_priority.items(), key=lambda x: x[1], reverse=True):
    print(f"{name}: {priority:.2f}% 부족")

# 2. 지역별 시설 개선 우선순위 (상위 10개)
if 'region_priority' in locals():
    print("\n지역별 시설 개선 우선순위 (종합 지수 기준 상위 10개):")
    top_priority_regions = region_priority.head(10)
    for region, idx in zip(top_priority_regions.index, top_priority_regions['종합순위지수']):
        print(f"{region}: {idx:.2f}")

# 3. 학교급별 개선 우선순위
if '학교급명' in result_df.columns:
    school_type_priority = {}
    for school_type in result_df['학교급명'].unique():
        school_df = result_df[result_df['학교급명'] == school_type]
        avg_score = school_df['시설점수'].mean()
        # low_facility_threshold가 정의되어 있는지 확인
        if 'low_facility_threshold' in locals():
            low_ratio = len(school_df[school_df['시설점수'] <= low_facility_threshold]) / len(school_df)
        else:
            low_ratio = len(school_df[school_df['시설점수'] <= 1]) / len(school_df)  # 기본값 설정
        
        # 가중 점수 계산 (평균 점수 역순위와 낮은 점수 비율 가중합)
        priority_score = (5 - avg_score) * 0.7 + low_ratio * 100 * 0.3
        school_type_priority[school_type] = priority_score
    
    print("\n학교급별 개선 우선순위:")
    for school_type, priority in sorted(school_type_priority.items(), key=lambda x: x[1], reverse=True):
        print(f"{school_type}: {priority:.2f}")

# 4. 우선 개선 필요 학교 목록 - 종합 우선순위 기준
# 우선순위 점수 = 낮은 시설 점수(60%) + 지역 우선순위(40%)

# 지역별 우선순위 점수 매핑 (낮을수록 우선순위 높음을 높은 점수로 변환)
if 'region_priority' in locals():
    max_region_score = region_priority['종합순위지수'].max()
    region_priority_score = max_region_score - region_priority['종합순위지수']
    region_priority_score = region_priority_score / region_priority_score.max() * 100  # 0-100 스케일로 변환
    
    # 학교별 우선순위 점수 계산
    result_df['지역우선순위점수'] = result_df[region_column].map(lambda x: region_priority_score.get(x, 0))
    
    # 시설 점수 역변환 (낮을수록 우선순위 높음)
    max_facility_score = result_df['시설점수'].max()
    result_df['시설부족점수'] = max_facility_score - result_df['시설점수']
    result_df['시설부족점수'] = result_df['시설부족점수'] / max_facility_score * 100  # 0-100 스케일로 변환
    
    # 종합 우선순위 점수 계산
    result_df['종합우선순위점수'] = result_df['시설부족점수'] * 0.6 + result_df['지역우선순위점수'] * 0.4
    
    # 종합 우선순위 상위 학교 출력
    priority_schools_final = result_df.sort_values('종합우선순위점수', ascending=False).head(30)
    print("\n시설 개선 종합 우선순위 상위 30개 학교:")
    priority_columns = ['SCHUL_NM', region_column, 'SCHUL_KND_SC_CODE', '시설점수', '지역우선순위점수', '종합우선순위점수']
    print(priority_schools_final[priority_columns])
    
    # 시각화: 우선순위 점수 분포
    plt.figure(figsize=(14, 8))
    sns.histplot(result_df['종합우선순위점수'], bins=50, kde=True)
    plt.title('학교별 시설 개선 우선순위 점수 분포', fontsize=16)
    plt.xlabel('종합 우선순위 점수 (높을수록 우선순위 높음)', fontsize=12)
    plt.ylabel('학교 수', fontsize=12)
    plt.axvline(x=np.percentile(result_df['종합우선순위점수'], 90), color='red', linestyle='--', 
                label='상위 10% 경계선')
    plt.legend()
    plt.tight_layout()
    plt.savefig('priority_score_distribution.png')
    plt.close()

#########################################################
# 13. 정책 제안을 위한 종합 분석 결과
#########################################################

print("\n13. 정책 제안을 위한 종합 분석 결과")
print("-" * 50)

print("\n[1] 우선 개보수 대상 학교 선정:")
if '종합우선순위점수' in result_df.columns:
    print("최종 우선순위 점수가 상위 10%에 해당하는 학교들을 우선 개보수 대상으로 선정")
    priority_threshold = np.percentile(result_df['종합우선순위점수'], 90)
    priority_schools_final = result_df[result_df['종합우선순위점수'] >= priority_threshold]
    print(f"- 총 {len(priority_schools_final)}개 학교 선정")
    print(f"- 평균 시설 점수: {priority_schools_final['시설점수'].mean():.2f} (전체 평균: {result_df['시설점수'].mean():.2f})")

print("\n[2] 시설 불균형지수를 활용한 예산 배분 기준:")
# 지역별 불균형 지수 계산
region_inequality = {}
for region in result_df[region_column].unique():
    region_df = result_df[result_df[region_column] == region]
    if len(region_df) >= 5:  # 학교가 5개 이상인 지역만 고려
        if region_df['시설점수'].mean() > 0:  # 0으로 나누기 방지
            region_inequality[region] = region_df['시설점수'].std() / region_df['시설점수'].mean()

# 불균형 지수 기준 상위 지역
if region_inequality:
    top_inequality_regions = {k: v for k, v in sorted(region_inequality.items(), key=lambda item: item[1], reverse=True)[:10]}
    print("불균형 지수 상위 10개 지역 (표준편차/평균):")
    for region, idx in top_inequality_regions.items():
        print(f"{region}: {idx:.4f}")

print("\n[3] 학생 수 대비 공간 부족 지역 분석:")
print("* 참고: 학생 수 데이터가 별도로 제공되지 않아 현재 데이터로는 분석이 제한적임")
print("* 제안: 학생 수 대비 시설 분석을 위해 추가 데이터 수집 필요")

print("\n[4] 시설별 개선 우선순위:")
facility_improvement = pd.Series(facility_priority).sort_values(ascending=False)
print(facility_improvement)

print("\n[5] 학교급별 개선 필요 사항:")
if '학교급명' in result_df.columns:
    for school_type in result_df['학교급명'].unique():
        school_df = result_df[result_df['학교급명'] == school_type]
        
        # 시설별 부족률 계산
        school_type_facility_lack = {}
        for col, name in zip(facility_columns, facility_names):
            avail_rate = calculate_facility_rate(school_df, col)
            school_type_facility_lack[name] = 100 - avail_rate
        
        # 우선순위가 높은 시설 (부족률 50% 이상) 출력
        high_priority_facilities = {k: v for k, v in school_type_facility_lack.items() if v >= 50}
        if high_priority_facilities:
            print(f"\n{school_type} 우선 개선 필요 시설 (부족률 50% 이상):")
            for facility, lack_rate in sorted(high_priority_facilities.items(), key=lambda x: x[1], reverse=True):
                print(f"- {facility}: {lack_rate:.1f}% 부족")

# 최종 결과 파일 저장 (선택 사항)
result_columns = ['SCHUL_NM', region_column, 'SCHUL_KND_SC_CODE', '시설점수'] + facility_columns
if '지역우선순위점수' in result_df.columns:
    result_columns.extend(['지역우선순위점수', '종합우선순위점수'])
    
result_df[result_columns].to_csv('학교시설_분석결과.csv', encoding='utf-8-sig')

print("\n분석 완료! 모든 결과 이미지와 데이터가 저장되었습니다.")    
