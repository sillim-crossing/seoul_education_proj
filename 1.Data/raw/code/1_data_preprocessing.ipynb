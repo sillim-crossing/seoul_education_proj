{
 "cells": [
  {
   "cell_type": "code",
   "execution_count": 87,
   "id": "d7f2f6b8",
   "metadata": {},
   "outputs": [],
   "source": [
    "import pandas as pd\n",
    "import numpy as np\n",
    "import matplotlib.pyplot as plt\n",
    "import seaborn as sns"
   ]
  },
  {
   "cell_type": "code",
   "execution_count": 88,
   "id": "6d664c19",
   "metadata": {},
   "outputs": [
    {
     "name": "stderr",
     "output_type": "stream",
     "text": [
      "C:\\Users\\Public\\Documents\\ESTsoft\\CreatorTemp\\ipykernel_22036\\1108916921.py:1: DtypeWarning: Columns (80,131,138) have mixed types. Specify dtype option on import or set low_memory=False.\n",
      "  df = pd.read_csv('data_raw.csv')\n"
     ]
    },
    {
     "data": {
      "text/html": [
       "<div>\n",
       "<style scoped>\n",
       "    .dataframe tbody tr th:only-of-type {\n",
       "        vertical-align: middle;\n",
       "    }\n",
       "\n",
       "    .dataframe tbody tr th {\n",
       "        vertical-align: top;\n",
       "    }\n",
       "\n",
       "    .dataframe thead th {\n",
       "        text-align: right;\n",
       "    }\n",
       "</style>\n",
       "<table border=\"1\" class=\"dataframe\">\n",
       "  <thead>\n",
       "    <tr style=\"text-align: right;\">\n",
       "      <th></th>\n",
       "      <th>CO_STB_YN</th>\n",
       "      <th>FOND_SC_CODE</th>\n",
       "      <th>SEM</th>\n",
       "      <th>NO2_STB_YN</th>\n",
       "      <th>ETHY_BENZENE_STB_YN</th>\n",
       "      <th>BENZENE_STB_YN</th>\n",
       "      <th>XYLENE_STB_YN</th>\n",
       "      <th>ITENI_RSLT_NMVL</th>\n",
       "      <th>RN_RSLT_NMVL</th>\n",
       "      <th>NAT_VNTLA_STB_YN</th>\n",
       "      <th>...</th>\n",
       "      <th>UGWTR_STB_YN_RSN</th>\n",
       "      <th>ITENI_STB_YN_RSN</th>\n",
       "      <th>NSE_STB_YN_RSN</th>\n",
       "      <th>DES_ITENI_STB_YN_RSN</th>\n",
       "      <th>BLKB_ITENI_STB_YN_RSN</th>\n",
       "      <th>PBAN_EXCP_RSN</th>\n",
       "      <th>NAT_VNTLA_STB_YN_RSN</th>\n",
       "      <th>연도</th>\n",
       "      <th>학교급코드</th>\n",
       "      <th>HS_KND_SC_NM</th>\n",
       "    </tr>\n",
       "  </thead>\n",
       "  <tbody>\n",
       "    <tr>\n",
       "      <th>0</th>\n",
       "      <td>해당없음</td>\n",
       "      <td>국립</td>\n",
       "      <td>2.0</td>\n",
       "      <td>해당없음</td>\n",
       "      <td>해당없음</td>\n",
       "      <td>해당없음</td>\n",
       "      <td>해당없음</td>\n",
       "      <td>1.0</td>\n",
       "      <td>49.0</td>\n",
       "      <td>실시</td>\n",
       "      <td>...</td>\n",
       "      <td>NaN</td>\n",
       "      <td>NaN</td>\n",
       "      <td>NaN</td>\n",
       "      <td>NaN</td>\n",
       "      <td>NaN</td>\n",
       "      <td>NaN</td>\n",
       "      <td>NaN</td>\n",
       "      <td>2022</td>\n",
       "      <td>2</td>\n",
       "      <td>NaN</td>\n",
       "    </tr>\n",
       "    <tr>\n",
       "      <th>1</th>\n",
       "      <td>적합</td>\n",
       "      <td>국립</td>\n",
       "      <td>1.0</td>\n",
       "      <td>적합</td>\n",
       "      <td>적합</td>\n",
       "      <td>적합</td>\n",
       "      <td>적합</td>\n",
       "      <td>NaN</td>\n",
       "      <td>44.0</td>\n",
       "      <td>NaN</td>\n",
       "      <td>...</td>\n",
       "      <td>NaN</td>\n",
       "      <td>NaN</td>\n",
       "      <td>NaN</td>\n",
       "      <td>NaN</td>\n",
       "      <td>NaN</td>\n",
       "      <td>NaN</td>\n",
       "      <td>NaN</td>\n",
       "      <td>2022</td>\n",
       "      <td>2</td>\n",
       "      <td>NaN</td>\n",
       "    </tr>\n",
       "    <tr>\n",
       "      <th>2</th>\n",
       "      <td>적합</td>\n",
       "      <td>국립</td>\n",
       "      <td>2.0</td>\n",
       "      <td>적합</td>\n",
       "      <td>적합</td>\n",
       "      <td>적합</td>\n",
       "      <td>적합</td>\n",
       "      <td>1.1</td>\n",
       "      <td>19.0</td>\n",
       "      <td>실시</td>\n",
       "      <td>...</td>\n",
       "      <td>NaN</td>\n",
       "      <td>NaN</td>\n",
       "      <td>NaN</td>\n",
       "      <td>NaN</td>\n",
       "      <td>NaN</td>\n",
       "      <td>NaN</td>\n",
       "      <td>NaN</td>\n",
       "      <td>2022</td>\n",
       "      <td>2</td>\n",
       "      <td>NaN</td>\n",
       "    </tr>\n",
       "    <tr>\n",
       "      <th>3</th>\n",
       "      <td>적합</td>\n",
       "      <td>국립</td>\n",
       "      <td>1.0</td>\n",
       "      <td>적합</td>\n",
       "      <td>적합</td>\n",
       "      <td>적합</td>\n",
       "      <td>적합</td>\n",
       "      <td>NaN</td>\n",
       "      <td>32.0</td>\n",
       "      <td>NaN</td>\n",
       "      <td>...</td>\n",
       "      <td>NaN</td>\n",
       "      <td>NaN</td>\n",
       "      <td>NaN</td>\n",
       "      <td>NaN</td>\n",
       "      <td>NaN</td>\n",
       "      <td>NaN</td>\n",
       "      <td>NaN</td>\n",
       "      <td>2022</td>\n",
       "      <td>2</td>\n",
       "      <td>NaN</td>\n",
       "    </tr>\n",
       "    <tr>\n",
       "      <th>4</th>\n",
       "      <td>적합</td>\n",
       "      <td>공립</td>\n",
       "      <td>2.0</td>\n",
       "      <td>적합</td>\n",
       "      <td>해당없음</td>\n",
       "      <td>해당없음</td>\n",
       "      <td>해당없음</td>\n",
       "      <td>1.4</td>\n",
       "      <td>NaN</td>\n",
       "      <td>실시</td>\n",
       "      <td>...</td>\n",
       "      <td>NaN</td>\n",
       "      <td>NaN</td>\n",
       "      <td>NaN</td>\n",
       "      <td>NaN</td>\n",
       "      <td>NaN</td>\n",
       "      <td>NaN</td>\n",
       "      <td>NaN</td>\n",
       "      <td>2022</td>\n",
       "      <td>2</td>\n",
       "      <td>NaN</td>\n",
       "    </tr>\n",
       "  </tbody>\n",
       "</table>\n",
       "<p>5 rows × 139 columns</p>\n",
       "</div>"
      ],
      "text/plain": [
       "  CO_STB_YN FOND_SC_CODE  SEM NO2_STB_YN ETHY_BENZENE_STB_YN BENZENE_STB_YN  \\\n",
       "0      해당없음           국립  2.0       해당없음                해당없음           해당없음   \n",
       "1        적합           국립  1.0         적합                  적합             적합   \n",
       "2        적합           국립  2.0         적합                  적합             적합   \n",
       "3        적합           국립  1.0         적합                  적합             적합   \n",
       "4        적합           공립  2.0         적합                해당없음           해당없음   \n",
       "\n",
       "  XYLENE_STB_YN  ITENI_RSLT_NMVL  RN_RSLT_NMVL NAT_VNTLA_STB_YN  ...  \\\n",
       "0          해당없음              1.0          49.0               실시  ...   \n",
       "1            적합              NaN          44.0              NaN  ...   \n",
       "2            적합              1.1          19.0               실시  ...   \n",
       "3            적합              NaN          32.0              NaN  ...   \n",
       "4          해당없음              1.4           NaN               실시  ...   \n",
       "\n",
       "   UGWTR_STB_YN_RSN  ITENI_STB_YN_RSN  NSE_STB_YN_RSN  DES_ITENI_STB_YN_RSN  \\\n",
       "0               NaN               NaN             NaN                   NaN   \n",
       "1               NaN               NaN             NaN                   NaN   \n",
       "2               NaN               NaN             NaN                   NaN   \n",
       "3               NaN               NaN             NaN                   NaN   \n",
       "4               NaN               NaN             NaN                   NaN   \n",
       "\n",
       "  BLKB_ITENI_STB_YN_RSN  PBAN_EXCP_RSN NAT_VNTLA_STB_YN_RSN    연도 학교급코드  \\\n",
       "0                   NaN            NaN                  NaN  2022     2   \n",
       "1                   NaN            NaN                  NaN  2022     2   \n",
       "2                   NaN            NaN                  NaN  2022     2   \n",
       "3                   NaN            NaN                  NaN  2022     2   \n",
       "4                   NaN            NaN                  NaN  2022     2   \n",
       "\n",
       "   HS_KND_SC_NM  \n",
       "0           NaN  \n",
       "1           NaN  \n",
       "2           NaN  \n",
       "3           NaN  \n",
       "4           NaN  \n",
       "\n",
       "[5 rows x 139 columns]"
      ]
     },
     "execution_count": 88,
     "metadata": {},
     "output_type": "execute_result"
    }
   ],
   "source": [
    "df = pd.read_csv('data_raw.csv')\n",
    "df.head()"
   ]
  },
  {
   "cell_type": "code",
   "execution_count": 89,
   "id": "acee39bf",
   "metadata": {},
   "outputs": [
    {
     "data": {
      "text/plain": [
       "0    국립\n",
       "1    국립\n",
       "2    국립\n",
       "3    국립\n",
       "4    공립\n",
       "Name: FOND_SC_CODE, dtype: object"
      ]
     },
     "execution_count": 89,
     "metadata": {},
     "output_type": "execute_result"
    }
   ],
   "source": [
    "# 설립 구분\n",
    "df['FOND_SC_CODE'].head()"
   ]
  },
  {
   "cell_type": "code",
   "execution_count": 90,
   "id": "0d6b98e9",
   "metadata": {},
   "outputs": [
    {
     "data": {
      "text/plain": [
       "0    NaN\n",
       "1    NaN\n",
       "2    NaN\n",
       "3    NaN\n",
       "4    NaN\n",
       "Name: HS_KND_SC_NM, dtype: object"
      ]
     },
     "execution_count": 90,
     "metadata": {},
     "output_type": "execute_result"
    }
   ],
   "source": [
    "# 학교 특성\n",
    "df['HS_KND_SC_NM'].head()"
   ]
  },
  {
   "cell_type": "code",
   "execution_count": 91,
   "id": "6f9a59a2",
   "metadata": {},
   "outputs": [
    {
     "data": {
      "text/html": [
       "<div>\n",
       "<style scoped>\n",
       "    .dataframe tbody tr th:only-of-type {\n",
       "        vertical-align: middle;\n",
       "    }\n",
       "\n",
       "    .dataframe tbody tr th {\n",
       "        vertical-align: top;\n",
       "    }\n",
       "\n",
       "    .dataframe thead th {\n",
       "        text-align: right;\n",
       "    }\n",
       "</style>\n",
       "<table border=\"1\" class=\"dataframe\">\n",
       "  <thead>\n",
       "    <tr style=\"text-align: right;\">\n",
       "      <th></th>\n",
       "      <th>ATPT_OFCDC_ORG_NM</th>\n",
       "      <th>ATPT_OFCDC_ORG_CODE</th>\n",
       "      <th>ADRCD_NM</th>\n",
       "      <th>ADRCD_CD</th>\n",
       "      <th>LCTN_SC_CODE</th>\n",
       "      <th>SCHUL_CODE</th>\n",
       "      <th>SCHUL_NM</th>\n",
       "      <th>SCHUL_KND_SC_CODE</th>\n",
       "      <th>FOND_SC_CODE</th>\n",
       "      <th>PBAN_EXCP_YN</th>\n",
       "      <th>...</th>\n",
       "      <th>RN_STB_YN</th>\n",
       "      <th>RN_RSLT_NMVL</th>\n",
       "      <th>RN_RSLT_NMVL_2</th>\n",
       "      <th>O3_STB_YN</th>\n",
       "      <th>O3_RSLT_NMVL</th>\n",
       "      <th>O3_RSLT_NMVL_2</th>\n",
       "      <th>ASBESTOS_STB_YN</th>\n",
       "      <th>ASBESTOS_RSLT_NMVL</th>\n",
       "      <th>ASBESTOS_RSLT_NMVL_2</th>\n",
       "      <th>연도</th>\n",
       "    </tr>\n",
       "  </thead>\n",
       "  <tbody>\n",
       "    <tr>\n",
       "      <th>0</th>\n",
       "      <td>서울특별시교육청</td>\n",
       "      <td>A000000001</td>\n",
       "      <td>서울특별시 서초구</td>\n",
       "      <td>1.165011e+09</td>\n",
       "      <td>1</td>\n",
       "      <td>S000003511</td>\n",
       "      <td>서울교육대학교부설초등학교</td>\n",
       "      <td>2</td>\n",
       "      <td>국립</td>\n",
       "      <td>N</td>\n",
       "      <td>...</td>\n",
       "      <td>적합</td>\n",
       "      <td>49.0</td>\n",
       "      <td>NaN</td>\n",
       "      <td>적합</td>\n",
       "      <td>0.010</td>\n",
       "      <td>0.020</td>\n",
       "      <td>해당없음</td>\n",
       "      <td>NaN</td>\n",
       "      <td>NaN</td>\n",
       "      <td>2022</td>\n",
       "    </tr>\n",
       "    <tr>\n",
       "      <th>1</th>\n",
       "      <td>서울특별시교육청</td>\n",
       "      <td>A000000001</td>\n",
       "      <td>서울특별시 서초구</td>\n",
       "      <td>1.165011e+09</td>\n",
       "      <td>1</td>\n",
       "      <td>S000003511</td>\n",
       "      <td>서울교육대학교부설초등학교</td>\n",
       "      <td>2</td>\n",
       "      <td>국립</td>\n",
       "      <td>N</td>\n",
       "      <td>...</td>\n",
       "      <td>적합</td>\n",
       "      <td>44.0</td>\n",
       "      <td>NaN</td>\n",
       "      <td>적합</td>\n",
       "      <td>0.010</td>\n",
       "      <td>NaN</td>\n",
       "      <td>적합</td>\n",
       "      <td>0.000</td>\n",
       "      <td>NaN</td>\n",
       "      <td>2022</td>\n",
       "    </tr>\n",
       "    <tr>\n",
       "      <th>2</th>\n",
       "      <td>서울특별시교육청</td>\n",
       "      <td>A000000001</td>\n",
       "      <td>서울특별시 종로구</td>\n",
       "      <td>1.111017e+09</td>\n",
       "      <td>1</td>\n",
       "      <td>S000003563</td>\n",
       "      <td>서울대학교사범대학부설초등학교</td>\n",
       "      <td>2</td>\n",
       "      <td>국립</td>\n",
       "      <td>N</td>\n",
       "      <td>...</td>\n",
       "      <td>적합</td>\n",
       "      <td>19.0</td>\n",
       "      <td>NaN</td>\n",
       "      <td>적합</td>\n",
       "      <td>0.001</td>\n",
       "      <td>NaN</td>\n",
       "      <td>적합</td>\n",
       "      <td>0.001</td>\n",
       "      <td>NaN</td>\n",
       "      <td>2022</td>\n",
       "    </tr>\n",
       "    <tr>\n",
       "      <th>3</th>\n",
       "      <td>서울특별시교육청</td>\n",
       "      <td>A000000001</td>\n",
       "      <td>서울특별시 종로구</td>\n",
       "      <td>1.111017e+09</td>\n",
       "      <td>1</td>\n",
       "      <td>S000003563</td>\n",
       "      <td>서울대학교사범대학부설초등학교</td>\n",
       "      <td>2</td>\n",
       "      <td>국립</td>\n",
       "      <td>N</td>\n",
       "      <td>...</td>\n",
       "      <td>적합</td>\n",
       "      <td>32.0</td>\n",
       "      <td>NaN</td>\n",
       "      <td>적합</td>\n",
       "      <td>0.000</td>\n",
       "      <td>NaN</td>\n",
       "      <td>적합</td>\n",
       "      <td>0.000</td>\n",
       "      <td>NaN</td>\n",
       "      <td>2022</td>\n",
       "    </tr>\n",
       "    <tr>\n",
       "      <th>4</th>\n",
       "      <td>서울특별시교육청</td>\n",
       "      <td>B100000001</td>\n",
       "      <td>서울특별시 강남구</td>\n",
       "      <td>1.168010e+09</td>\n",
       "      <td>1</td>\n",
       "      <td>S010000738</td>\n",
       "      <td>서울개일초등학교</td>\n",
       "      <td>2</td>\n",
       "      <td>공립</td>\n",
       "      <td>N</td>\n",
       "      <td>...</td>\n",
       "      <td>해당없음</td>\n",
       "      <td>NaN</td>\n",
       "      <td>NaN</td>\n",
       "      <td>적합</td>\n",
       "      <td>0.007</td>\n",
       "      <td>0.025</td>\n",
       "      <td>적합</td>\n",
       "      <td>0.010</td>\n",
       "      <td>NaN</td>\n",
       "      <td>2022</td>\n",
       "    </tr>\n",
       "  </tbody>\n",
       "</table>\n",
       "<p>5 rows × 30 columns</p>\n",
       "</div>"
      ],
      "text/plain": [
       "  ATPT_OFCDC_ORG_NM ATPT_OFCDC_ORG_CODE   ADRCD_NM      ADRCD_CD  \\\n",
       "0          서울특별시교육청          A000000001  서울특별시 서초구  1.165011e+09   \n",
       "1          서울특별시교육청          A000000001  서울특별시 서초구  1.165011e+09   \n",
       "2          서울특별시교육청          A000000001  서울특별시 종로구  1.111017e+09   \n",
       "3          서울특별시교육청          A000000001  서울특별시 종로구  1.111017e+09   \n",
       "4          서울특별시교육청          B100000001  서울특별시 강남구  1.168010e+09   \n",
       "\n",
       "   LCTN_SC_CODE  SCHUL_CODE         SCHUL_NM  SCHUL_KND_SC_CODE FOND_SC_CODE  \\\n",
       "0             1  S000003511    서울교육대학교부설초등학교                  2           국립   \n",
       "1             1  S000003511    서울교육대학교부설초등학교                  2           국립   \n",
       "2             1  S000003563  서울대학교사범대학부설초등학교                  2           국립   \n",
       "3             1  S000003563  서울대학교사범대학부설초등학교                  2           국립   \n",
       "4             1  S010000738         서울개일초등학교                  2           공립   \n",
       "\n",
       "  PBAN_EXCP_YN  ... RN_STB_YN RN_RSLT_NMVL  RN_RSLT_NMVL_2  O3_STB_YN  \\\n",
       "0            N  ...        적합         49.0             NaN         적합   \n",
       "1            N  ...        적합         44.0             NaN         적합   \n",
       "2            N  ...        적합         19.0             NaN         적합   \n",
       "3            N  ...        적합         32.0             NaN         적합   \n",
       "4            N  ...      해당없음          NaN             NaN         적합   \n",
       "\n",
       "  O3_RSLT_NMVL  O3_RSLT_NMVL_2  ASBESTOS_STB_YN ASBESTOS_RSLT_NMVL  \\\n",
       "0        0.010           0.020             해당없음                NaN   \n",
       "1        0.010             NaN               적합              0.000   \n",
       "2        0.001             NaN               적합              0.001   \n",
       "3        0.000             NaN               적합              0.000   \n",
       "4        0.007           0.025               적합              0.010   \n",
       "\n",
       "   ASBESTOS_RSLT_NMVL_2    연도  \n",
       "0                   NaN  2022  \n",
       "1                   NaN  2022  \n",
       "2                   NaN  2022  \n",
       "3                   NaN  2022  \n",
       "4                   NaN  2022  \n",
       "\n",
       "[5 rows x 30 columns]"
      ]
     },
     "execution_count": 91,
     "metadata": {},
     "output_type": "execute_result"
    }
   ],
   "source": [
    "colums_to_use = ['ATPT_OFCDC_ORG_NM', 'ATPT_OFCDC_ORG_CODE', 'ADRCD_NM', 'ADRCD_CD', 'LCTN_SC_CODE', 'SCHUL_CODE', 'SCHUL_NM', 'SCHUL_KND_SC_CODE', 'FOND_SC_CODE', 'PBAN_EXCP_YN', 'SEM_STR', 'AIR_BACT_STB_YN', 'AIR_BACT_RSLT_NMVL', 'AIR_BACT_RSLT_NMVL_2', 'FALL_BACT_STB_YN', 'FALL_BACT_RSLT_NMVL', 'FALL_BACT_RSLT_NMVL_2', 'MITE_STB_YN', 'MITE_RSLT_NMVL', 'MITE_RSLT_NMVL_2', 'RN_STB_YN', 'RN_RSLT_NMVL', 'RN_RSLT_NMVL_2', 'O3_STB_YN', 'O3_RSLT_NMVL', 'O3_RSLT_NMVL_2', 'ASBESTOS_STB_YN', 'ASBESTOS_RSLT_NMVL', 'ASBESTOS_RSLT_NMVL_2', '연도']\n",
    "\n",
    "df = df[colums_to_use]\n",
    "df.head()"
   ]
  },
  {
   "cell_type": "code",
   "execution_count": 92,
   "id": "49e38d79",
   "metadata": {},
   "outputs": [
    {
     "data": {
      "text/plain": [
       "ATPT_OFCDC_ORG_NM            0\n",
       "ATPT_OFCDC_ORG_CODE          0\n",
       "ADRCD_NM                    12\n",
       "ADRCD_CD                    12\n",
       "LCTN_SC_CODE                 0\n",
       "SCHUL_CODE                   0\n",
       "SCHUL_NM                     0\n",
       "SCHUL_KND_SC_CODE            0\n",
       "FOND_SC_CODE                 0\n",
       "PBAN_EXCP_YN                 0\n",
       "SEM_STR                    144\n",
       "AIR_BACT_STB_YN            144\n",
       "AIR_BACT_RSLT_NMVL         918\n",
       "AIR_BACT_RSLT_NMVL_2     40725\n",
       "FALL_BACT_STB_YN           144\n",
       "FALL_BACT_RSLT_NMVL       9022\n",
       "FALL_BACT_RSLT_NMVL_2    42633\n",
       "MITE_STB_YN                144\n",
       "MITE_RSLT_NMVL            2581\n",
       "MITE_RSLT_NMVL_2         43600\n",
       "RN_STB_YN                  144\n",
       "RN_RSLT_NMVL              3968\n",
       "RN_RSLT_NMVL_2           43512\n",
       "O3_STB_YN                  144\n",
       "O3_RSLT_NMVL              1063\n",
       "O3_RSLT_NMVL_2           41439\n",
       "ASBESTOS_STB_YN            144\n",
       "ASBESTOS_RSLT_NMVL       25302\n",
       "ASBESTOS_RSLT_NMVL_2     45808\n",
       "연도                           0\n",
       "dtype: int64"
      ]
     },
     "execution_count": 92,
     "metadata": {},
     "output_type": "execute_result"
    }
   ],
   "source": [
    "# 결측치 확인\n",
    "df.isnull().sum()"
   ]
  },
  {
   "cell_type": "code",
   "execution_count": 93,
   "id": "f7cdd7f8",
   "metadata": {},
   "outputs": [
    {
     "data": {
      "text/plain": [
       "array([2022, 2023], dtype=int64)"
      ]
     },
     "execution_count": 93,
     "metadata": {},
     "output_type": "execute_result"
    }
   ],
   "source": [
    "df['연도'].unique()"
   ]
  },
  {
   "cell_type": "code",
   "execution_count": 94,
   "id": "c99e398c",
   "metadata": {},
   "outputs": [],
   "source": [
    "df = df[df['연도'] == 2023]"
   ]
  },
  {
   "cell_type": "code",
   "execution_count": 95,
   "id": "9c07df1a",
   "metadata": {},
   "outputs": [
    {
     "data": {
      "text/plain": [
       "array(['서울특별시교육청', '부산광역시교육청', '대구광역시교육청', '인천광역시교육청', '광주광역시교육청',\n",
       "       '대전광역시교육청', '울산광역시교육청', '세종특별자치시교육청', '경기도교육청', '강원특별자치도교육청',\n",
       "       '충청북도교육청', '충청남도교육청', '전북특별자치도교육청', '전라남도교육청', '경상북도교육청',\n",
       "       '경상남도교육청', '제주특별자치도교육청'], dtype=object)"
      ]
     },
     "execution_count": 95,
     "metadata": {},
     "output_type": "execute_result"
    }
   ],
   "source": [
    "df['ATPT_OFCDC_ORG_NM'].unique()"
   ]
  },
  {
   "cell_type": "code",
   "execution_count": 96,
   "id": "f4bde55e",
   "metadata": {},
   "outputs": [],
   "source": [
    "df = df[df['ATPT_OFCDC_ORG_NM'] == '서울특별시교육청']"
   ]
  },
  {
   "cell_type": "code",
   "execution_count": 97,
   "id": "409ffb90",
   "metadata": {},
   "outputs": [
    {
     "name": "stdout",
     "output_type": "stream",
     "text": [
      "2\n",
      "서울교육대학교부설초등학교\n",
      "------------------\n",
      "3\n",
      "서울대학교사범대학부설중학교\n",
      "------------------\n",
      "4\n",
      "국립국악고등학교\n",
      "------------------\n",
      "5\n",
      "서울농학교\n",
      "------------------\n",
      "11\n",
      "경동고등학교부설방송통신고등학교\n",
      "------------------\n",
      "25\n",
      "아현중학교부설방송통신중학교\n",
      "------------------\n"
     ]
    }
   ],
   "source": [
    "code_list = df['SCHUL_KND_SC_CODE'].unique()\n",
    "\n",
    "for code in code_list:\n",
    "    print(code)\n",
    "    print(df[df['SCHUL_KND_SC_CODE'] == code].head(1)['SCHUL_NM'].values[0])\n",
    "    print('------------------')"
   ]
  },
  {
   "cell_type": "code",
   "execution_count": 98,
   "id": "b5897449",
   "metadata": {},
   "outputs": [],
   "source": [
    "df = df[df['SCHUL_KND_SC_CODE'].isin([2, 3, 4])]"
   ]
  },
  {
   "cell_type": "code",
   "execution_count": 99,
   "id": "96665010",
   "metadata": {},
   "outputs": [
    {
     "data": {
      "text/plain": [
       "array(['국립', '공립', '사립'], dtype=object)"
      ]
     },
     "execution_count": 99,
     "metadata": {},
     "output_type": "execute_result"
    }
   ],
   "source": [
    "df['FOND_SC_CODE'].unique()"
   ]
  },
  {
   "cell_type": "code",
   "execution_count": 100,
   "id": "422ef7b2",
   "metadata": {},
   "outputs": [],
   "source": [
    "df = df[df['FOND_SC_CODE'].isin(['국립', '공립'])]"
   ]
  },
  {
   "cell_type": "code",
   "execution_count": 101,
   "id": "685f4274",
   "metadata": {},
   "outputs": [],
   "source": [
    "colums_to_drop = ['ATPT_OFCDC_ORG_NM', 'ATPT_OFCDC_ORG_CODE', 'FOND_SC_CODE', '연도']\n",
    "\n",
    "df = df.drop(columns=colums_to_drop)"
   ]
  },
  {
   "cell_type": "code",
   "execution_count": 102,
   "id": "8fceced5",
   "metadata": {},
   "outputs": [
    {
     "data": {
      "text/plain": [
       "ADRCD_NM                    0\n",
       "ADRCD_CD                    0\n",
       "LCTN_SC_CODE                0\n",
       "SCHUL_CODE                  0\n",
       "SCHUL_NM                    0\n",
       "SCHUL_KND_SC_CODE           0\n",
       "PBAN_EXCP_YN                0\n",
       "SEM_STR                     1\n",
       "AIR_BACT_STB_YN             1\n",
       "AIR_BACT_RSLT_NMVL         40\n",
       "AIR_BACT_RSLT_NMVL_2     1511\n",
       "FALL_BACT_STB_YN            1\n",
       "FALL_BACT_RSLT_NMVL       753\n",
       "FALL_BACT_RSLT_NMVL_2    1721\n",
       "MITE_STB_YN                 1\n",
       "MITE_RSLT_NMVL             95\n",
       "MITE_RSLT_NMVL_2         1805\n",
       "RN_STB_YN                   1\n",
       "RN_RSLT_NMVL              165\n",
       "RN_RSLT_NMVL_2           1817\n",
       "O3_STB_YN                   1\n",
       "O3_RSLT_NMVL               40\n",
       "O3_RSLT_NMVL_2           1520\n",
       "ASBESTOS_STB_YN             1\n",
       "ASBESTOS_RSLT_NMVL        903\n",
       "ASBESTOS_RSLT_NMVL_2     1829\n",
       "dtype: int64"
      ]
     },
     "execution_count": 102,
     "metadata": {},
     "output_type": "execute_result"
    }
   ],
   "source": [
    "# 결측치 확인\n",
    "df.isnull().sum()"
   ]
  },
  {
   "cell_type": "code",
   "execution_count": 103,
   "id": "3efc9f45",
   "metadata": {},
   "outputs": [],
   "source": [
    "# csv 파일로 저장\n",
    "df.to_csv('data_to_use.csv', index=False, encoding='utf-8-sig')"
   ]
  }
 ],
 "metadata": {
  "kernelspec": {
   "display_name": "zero_base",
   "language": "python",
   "name": "python3"
  },
  "language_info": {
   "codemirror_mode": {
    "name": "ipython",
    "version": 3
   },
   "file_extension": ".py",
   "mimetype": "text/x-python",
   "name": "python",
   "nbconvert_exporter": "python",
   "pygments_lexer": "ipython3",
   "version": "3.12.2"
  }
 },
 "nbformat": 4,
 "nbformat_minor": 5
}
