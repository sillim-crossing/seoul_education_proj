{
  "nbformat": 4,
  "nbformat_minor": 0,
  "metadata": {
    "colab": {
      "provenance": []
    },
    "kernelspec": {
      "name": "python3",
      "display_name": "Python 3"
    },
    "language_info": {
      "name": "python"
    }
  },
  "cells": [
    {
      "cell_type": "code",
      "source": [
        "import pandas as pd\n",
        "import numpy as np\n",
        "import os\n",
        "\n",
        "# 1. 파일 경로 설정 (환경위생 데이터만 사용)\n",
        "env_path = \"/content/서울특별시_국공립_초중고_환경위생관리현황.csv\"\n",
        "env_df = pd.read_csv(env_path)\n",
        "\n",
        "# 2. 기준값 및 가중치 정의\n",
        "standard_dict = {\n",
        "    'ASBESTOS': 0.01, 'RN': 148, 'HCHO': 100, 'BENZENE': 30,\n",
        "    'TOLUENE': 1000, 'ETHY_BENZENE': 360, 'XYLENE': 700, 'STYLENE': 300,\n",
        "    'VOCS': 400, 'MNUT_DST': 75, 'ULTRA_DST': 35,\n",
        "    'CO': 10, 'NO2': 0.05, 'O3': 0.06\n",
        "}\n",
        "weight_dict = {\n",
        "    'ASBESTOS': 3.0, 'RN': 2.5, 'HCHO': 2.0, 'BENZENE': 2.0,\n",
        "    'TOLUENE': 1.5, 'ETHY_BENZENE': 1.5, 'XYLENE': 1.2, 'STYLENE': 1.2,\n",
        "    'VOCS': 1.5, 'MNUT_DST': 1.0, 'ULTRA_DST': 1.0,\n",
        "    'CO': 1.0, 'NO2': 1.0, 'O3': 1.0\n",
        "}\n",
        "grade_dict = {\n",
        "    (0, 3.0): 'A', (3.1, 6.0): 'B', (6.1, 9.0): 'C',\n",
        "    (9.1, 12.0): 'D', (12.1, float('inf')): 'E'\n",
        "}\n",
        "\n",
        "# 3. 측정값 컬럼 자동 탐색 및 그룹화\n",
        "measure_cols = [col for col in env_df.columns if '_RSLT_NMVL' in col]\n",
        "material_groups = {}\n",
        "for col in measure_cols:\n",
        "    prefix = col.split('_RSLT_')[0]\n",
        "    material_groups.setdefault(prefix, []).append(col)\n",
        "\n",
        "# 4. 각 물질별 최대값 계산\n",
        "for mat, cols in material_groups.items():\n",
        "    env_df[mat] = env_df[cols].max(axis=1)\n",
        "\n",
        "# 5. 존재하는 관련 컬럼만 추출\n",
        "existing_cols = env_df.columns.tolist()\n",
        "air_related = [col for col in ['VOCS', 'CO2_1000', 'CO2_1500', 'MNUT_DST', 'ULTRA_DST', 'CO', 'NO2', 'O3'] if col in existing_cols]\n",
        "building_related = [col for col in ['ASBESTOS', 'RN', 'HCHO', 'BENZENE', 'TOLUENE', 'ETHY_BENZENE', 'XYLENE', 'STYLENE'] if col in existing_cols]\n",
        "\n",
        "# 6. 결측치 처리\n",
        "if 'ADRCD_NM' in env_df.columns:\n",
        "    env_df[air_related] = env_df.groupby('ADRCD_NM')[air_related].transform(lambda x: x.fillna(x.mean()))\n",
        "if '연도' in env_df.columns:\n",
        "    env_df[building_related] = env_df.groupby('연도')[building_related].transform(lambda x: x.fillna(x.mean()))\n",
        "env_df.fillna(0, inplace=True)\n",
        "\n",
        "# 7. 점수 계산 함수 정의\n",
        "def calculate_score(value, standard):\n",
        "    return value / standard if standard else 0\n",
        "\n",
        "def apply_grade(score):\n",
        "    for (low, high), grade in grade_dict.items():\n",
        "        if low <= score <= high:\n",
        "            return grade\n",
        "    return 'E'\n",
        "\n",
        "# 8. 점수 및 가중치 계산\n",
        "score_cols = []\n",
        "for mat in material_groups:\n",
        "    if mat in standard_dict:\n",
        "        score_col = f\"{mat}_score\"\n",
        "        env_df[score_col] = env_df[mat].apply(lambda x: calculate_score(x, standard_dict[mat]))\n",
        "        env_df[f\"{mat}_weighted\"] = env_df[score_col] * weight_dict.get(mat, 1.0)\n",
        "        score_cols.append(f\"{mat}_weighted\")\n",
        "\n",
        "# 9. 총점 및 등급 계산\n",
        "env_df[\"TOTAL_SCORE\"] = env_df[score_cols].sum(axis=1)\n",
        "env_df[\"GRADE\"] = env_df[\"TOTAL_SCORE\"].apply(apply_grade)\n",
        "\n",
        "# 10. 주요 식별자 + 점수 컬럼 정리\n",
        "meta_cols = ['SCHUL_CODE', 'SCHUL_NM', '연도', 'ADRCD_NM', '학교급코드']\n",
        "output_cols = [col for col in meta_cols if col in env_df.columns] + list(material_groups.keys()) + score_cols + ['TOTAL_SCORE', 'GRADE']\n",
        "final_df = env_df[output_cols]\n",
        "\n",
        "# 11. CSV 저장\n",
        "output_path = \"/content/환경위생_통합점수_자동처리.csv\"\n",
        "final_df.to_csv(output_path, index=False, encoding='utf-8-sig')\n",
        "\n",
        "print(\"✅ 파일 저장 완료:\", output_path)"
      ],
      "metadata": {
        "colab": {
          "base_uri": "https://localhost:8080/"
        },
        "id": "opBwxFVDDnK-",
        "outputId": "d1841382-0de5-4b79-f12a-65453345e595"
      },
      "execution_count": null,
      "outputs": [
        {
          "output_type": "stream",
          "name": "stdout",
          "text": [
            "✅ 파일 저장 완료: /content/환경위생_통합점수_자동처리.csv\n"
          ]
        }
      ]
    }
  ]
}